{
 "cells": [
  {
   "cell_type": "code",
   "execution_count": null,
   "id": "7de86ea6-235c-4c86-a80e-a8a23a272c0c",
   "metadata": {},
   "outputs": [],
   "source": []
  }
 ],
 "metadata": {
  "interpreter": {
   "hash": "bae771ab247f59de44b2a36e10425cabdd36ef6693a4e73547cceb22a2857dfa"
  },
  "kernelspec": {
   "display_name": "Python 3.8.12 ('taxi_rl38')",
   "language": "python",
   "name": "python3"
  },
  "language_info": {
   "codemirror_mode": {
    "name": "ipython",
    "version": 3
   },
   "file_extension": ".py",
   "mimetype": "text/x-python",
   "name": "python",
   "nbconvert_exporter": "python",
   "pygments_lexer": "ipython3",
   "version": "3.8.12"
  }
 },
 "nbformat": 4,
 "nbformat_minor": 5
}
