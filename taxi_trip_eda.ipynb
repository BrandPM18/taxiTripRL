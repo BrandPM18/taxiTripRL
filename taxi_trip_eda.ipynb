{
 "cells": [
  {
   "cell_type": "markdown",
   "id": "0f827d1a",
   "metadata": {},
   "source": [
    "# Exploratory Data Chicago Taxi\n",
    "_(edited by Brando Palacios)_"
   ]
  },
  {
   "cell_type": "markdown",
   "id": "fa3289a0",
   "metadata": {},
   "source": [
    "## Dataset Chicado Taxi Trips [[1]](#1)\n",
    "\n",
    "### Resumen\n",
    "El dataset de estudio es un reporte de viajes en taxi en la ciudad de Chicago, bajo un proceso de regularización y conteo de taxis en la ciudad, todas las empresas afiliadas a estos servicios registran sus taxis mediante un identificador en la _public data city of Chicado_ para proteger la privacidad.\n",
    "\n",
    "\n",
    "El dataset de Chicado Taxi Trips  fue lanzado desde enero del 2013 hasta la fecha, sin embargo según el reporte de actualizaciones del conjunto de datos de chicado, en octubre del 2017 desactivo la subida de nuevos datos por problemas en la recolección de datos, hasta abril del 2019 que reanudo el reporte de datos. [[2]](#2)\n",
    "\n",
    "### Justificacion\n",
    "Sé tomaros los datos de Chicado Taxi por su uso de datos espaciales SQL, los cuales representan información sobre la ubicación física y la forma de los objetos geométricos. Estos objetos pueden ser ubicaciones puntuales u objetos más complejos como cuadrantes, carreteras, etc. [[3]](#3)"
   ]
  },
  {
   "cell_type": "code",
   "execution_count": 28,
   "id": "b7597d9f",
   "metadata": {},
   "outputs": [],
   "source": [
    "import pandas as pd\n",
    "from dask import dataframe as dd\n",
    "import dask.multiprocessing\n",
    "import time"
   ]
  },
  {
   "cell_type": "code",
   "execution_count": 51,
   "id": "1e58f5fd",
   "metadata": {},
   "outputs": [],
   "source": [
    "chunk = pd.read_csv(\"./csv/Taxi_Trips_01012021_07312021.csv\")"
   ]
  },
  {
   "cell_type": "code",
   "execution_count": 52,
   "id": "25ef4664",
   "metadata": {},
   "outputs": [
    {
     "data": {
      "text/html": [
       "<div>\n",
       "<style scoped>\n",
       "    .dataframe tbody tr th:only-of-type {\n",
       "        vertical-align: middle;\n",
       "    }\n",
       "\n",
       "    .dataframe tbody tr th {\n",
       "        vertical-align: top;\n",
       "    }\n",
       "\n",
       "    .dataframe thead th {\n",
       "        text-align: right;\n",
       "    }\n",
       "</style>\n",
       "<table border=\"1\" class=\"dataframe\">\n",
       "  <thead>\n",
       "    <tr style=\"text-align: right;\">\n",
       "      <th></th>\n",
       "      <th>Trip ID</th>\n",
       "      <th>Taxi ID</th>\n",
       "      <th>Trip Start Timestamp</th>\n",
       "      <th>Trip End Timestamp</th>\n",
       "      <th>Trip Seconds</th>\n",
       "      <th>Trip Miles</th>\n",
       "      <th>Pickup Census Tract</th>\n",
       "      <th>Dropoff Census Tract</th>\n",
       "      <th>Pickup Community Area</th>\n",
       "      <th>Dropoff Community Area</th>\n",
       "      <th>...</th>\n",
       "      <th>Extras</th>\n",
       "      <th>Trip Total</th>\n",
       "      <th>Payment Type</th>\n",
       "      <th>Company</th>\n",
       "      <th>Pickup Centroid Latitude</th>\n",
       "      <th>Pickup Centroid Longitude</th>\n",
       "      <th>Pickup Centroid Location</th>\n",
       "      <th>Dropoff Centroid Latitude</th>\n",
       "      <th>Dropoff Centroid Longitude</th>\n",
       "      <th>Dropoff Centroid  Location</th>\n",
       "    </tr>\n",
       "  </thead>\n",
       "  <tbody>\n",
       "    <tr>\n",
       "      <th>0</th>\n",
       "      <td>02fc5d8c3e8525a49b7514bd6c2b3301c2d6aa79</td>\n",
       "      <td>7e179f8ef66ae99ec2d1ec89224e0b7ee5469fe5627f6d...</td>\n",
       "      <td>01/01/2021 12:00:00 AM</td>\n",
       "      <td>01/01/2021 12:15:00 AM</td>\n",
       "      <td>1021.0</td>\n",
       "      <td>3.17</td>\n",
       "      <td>NaN</td>\n",
       "      <td>NaN</td>\n",
       "      <td>NaN</td>\n",
       "      <td>4.0</td>\n",
       "      <td>...</td>\n",
       "      <td>0.0</td>\n",
       "      <td>13.25</td>\n",
       "      <td>Cash</td>\n",
       "      <td>Flash Cab</td>\n",
       "      <td>NaN</td>\n",
       "      <td>NaN</td>\n",
       "      <td>NaN</td>\n",
       "      <td>41.975171</td>\n",
       "      <td>-87.687516</td>\n",
       "      <td>POINT (-87.6875155152 41.9751709433)</td>\n",
       "    </tr>\n",
       "    <tr>\n",
       "      <th>1</th>\n",
       "      <td>33eb5c7a1439ac1e3ec6d1520e21db8137d1d11b</td>\n",
       "      <td>2c508057a94474215bdea7b101edad0dc911ef61bb99e6...</td>\n",
       "      <td>01/01/2021 12:00:00 AM</td>\n",
       "      <td>01/01/2021 03:30:00 PM</td>\n",
       "      <td>56047.0</td>\n",
       "      <td>7.10</td>\n",
       "      <td>NaN</td>\n",
       "      <td>NaN</td>\n",
       "      <td>56.0</td>\n",
       "      <td>NaN</td>\n",
       "      <td>...</td>\n",
       "      <td>6.5</td>\n",
       "      <td>27.00</td>\n",
       "      <td>Cash</td>\n",
       "      <td>Flash Cab</td>\n",
       "      <td>41.792592</td>\n",
       "      <td>-87.769615</td>\n",
       "      <td>POINT (-87.7696154528 41.7925923603)</td>\n",
       "      <td>NaN</td>\n",
       "      <td>NaN</td>\n",
       "      <td>NaN</td>\n",
       "    </tr>\n",
       "    <tr>\n",
       "      <th>2</th>\n",
       "      <td>4bcfcfa78f372b705214ee2cba9c765ad6ba5161</td>\n",
       "      <td>31261f6e7fc645eff98c7964c7ea71a0ea7e387a6bd7f8...</td>\n",
       "      <td>01/01/2021 12:00:00 AM</td>\n",
       "      <td>01/01/2021 12:00:00 AM</td>\n",
       "      <td>120.0</td>\n",
       "      <td>0.10</td>\n",
       "      <td>NaN</td>\n",
       "      <td>NaN</td>\n",
       "      <td>8.0</td>\n",
       "      <td>8.0</td>\n",
       "      <td>...</td>\n",
       "      <td>1.0</td>\n",
       "      <td>4.50</td>\n",
       "      <td>Cash</td>\n",
       "      <td>Taxi Affiliation Services</td>\n",
       "      <td>41.899602</td>\n",
       "      <td>-87.633308</td>\n",
       "      <td>POINT (-87.6333080367 41.899602111)</td>\n",
       "      <td>41.899602</td>\n",
       "      <td>-87.633308</td>\n",
       "      <td>POINT (-87.6333080367 41.899602111)</td>\n",
       "    </tr>\n",
       "    <tr>\n",
       "      <th>3</th>\n",
       "      <td>655bbd9bcb0a78ee003e304ebbe350b21cdd7083</td>\n",
       "      <td>f6138aa35e1fb074eb79fbe29f512b6153dca3593d8cd2...</td>\n",
       "      <td>01/01/2021 12:00:00 AM</td>\n",
       "      <td>01/01/2021 12:00:00 AM</td>\n",
       "      <td>0.0</td>\n",
       "      <td>0.00</td>\n",
       "      <td>NaN</td>\n",
       "      <td>NaN</td>\n",
       "      <td>67.0</td>\n",
       "      <td>67.0</td>\n",
       "      <td>...</td>\n",
       "      <td>0.0</td>\n",
       "      <td>3.25</td>\n",
       "      <td>Cash</td>\n",
       "      <td>Taxicab Insurance Agency, LLC</td>\n",
       "      <td>41.775929</td>\n",
       "      <td>-87.666596</td>\n",
       "      <td>POINT (-87.6665962653 41.7759288274)</td>\n",
       "      <td>41.775929</td>\n",
       "      <td>-87.666596</td>\n",
       "      <td>POINT (-87.6665962653 41.7759288274)</td>\n",
       "    </tr>\n",
       "    <tr>\n",
       "      <th>4</th>\n",
       "      <td>7b7b8108de94a518607068a7369ceea1ab2ae924</td>\n",
       "      <td>2c508057a94474215bdea7b101edad0dc911ef61bb99e6...</td>\n",
       "      <td>01/01/2021 12:00:00 AM</td>\n",
       "      <td>01/01/2021 12:00:00 AM</td>\n",
       "      <td>50.0</td>\n",
       "      <td>0.38</td>\n",
       "      <td>NaN</td>\n",
       "      <td>NaN</td>\n",
       "      <td>60.0</td>\n",
       "      <td>31.0</td>\n",
       "      <td>...</td>\n",
       "      <td>0.0</td>\n",
       "      <td>4.00</td>\n",
       "      <td>Cash</td>\n",
       "      <td>Flash Cab</td>\n",
       "      <td>41.836150</td>\n",
       "      <td>-87.648788</td>\n",
       "      <td>POINT (-87.6487879519 41.8361501547)</td>\n",
       "      <td>41.850266</td>\n",
       "      <td>-87.667569</td>\n",
       "      <td>POINT (-87.667569312 41.8502663663)</td>\n",
       "    </tr>\n",
       "  </tbody>\n",
       "</table>\n",
       "<p>5 rows × 23 columns</p>\n",
       "</div>"
      ],
      "text/plain": [
       "                                    Trip ID  \\\n",
       "0  02fc5d8c3e8525a49b7514bd6c2b3301c2d6aa79   \n",
       "1  33eb5c7a1439ac1e3ec6d1520e21db8137d1d11b   \n",
       "2  4bcfcfa78f372b705214ee2cba9c765ad6ba5161   \n",
       "3  655bbd9bcb0a78ee003e304ebbe350b21cdd7083   \n",
       "4  7b7b8108de94a518607068a7369ceea1ab2ae924   \n",
       "\n",
       "                                             Taxi ID    Trip Start Timestamp  \\\n",
       "0  7e179f8ef66ae99ec2d1ec89224e0b7ee5469fe5627f6d...  01/01/2021 12:00:00 AM   \n",
       "1  2c508057a94474215bdea7b101edad0dc911ef61bb99e6...  01/01/2021 12:00:00 AM   \n",
       "2  31261f6e7fc645eff98c7964c7ea71a0ea7e387a6bd7f8...  01/01/2021 12:00:00 AM   \n",
       "3  f6138aa35e1fb074eb79fbe29f512b6153dca3593d8cd2...  01/01/2021 12:00:00 AM   \n",
       "4  2c508057a94474215bdea7b101edad0dc911ef61bb99e6...  01/01/2021 12:00:00 AM   \n",
       "\n",
       "       Trip End Timestamp  Trip Seconds  Trip Miles  Pickup Census Tract  \\\n",
       "0  01/01/2021 12:15:00 AM        1021.0        3.17                  NaN   \n",
       "1  01/01/2021 03:30:00 PM       56047.0        7.10                  NaN   \n",
       "2  01/01/2021 12:00:00 AM         120.0        0.10                  NaN   \n",
       "3  01/01/2021 12:00:00 AM           0.0        0.00                  NaN   \n",
       "4  01/01/2021 12:00:00 AM          50.0        0.38                  NaN   \n",
       "\n",
       "   Dropoff Census Tract  Pickup Community Area  Dropoff Community Area  ...  \\\n",
       "0                   NaN                    NaN                     4.0  ...   \n",
       "1                   NaN                   56.0                     NaN  ...   \n",
       "2                   NaN                    8.0                     8.0  ...   \n",
       "3                   NaN                   67.0                    67.0  ...   \n",
       "4                   NaN                   60.0                    31.0  ...   \n",
       "\n",
       "   Extras  Trip Total  Payment Type                        Company  \\\n",
       "0     0.0       13.25          Cash                      Flash Cab   \n",
       "1     6.5       27.00          Cash                      Flash Cab   \n",
       "2     1.0        4.50          Cash      Taxi Affiliation Services   \n",
       "3     0.0        3.25          Cash  Taxicab Insurance Agency, LLC   \n",
       "4     0.0        4.00          Cash                      Flash Cab   \n",
       "\n",
       "   Pickup Centroid Latitude Pickup Centroid Longitude  \\\n",
       "0                       NaN                       NaN   \n",
       "1                 41.792592                -87.769615   \n",
       "2                 41.899602                -87.633308   \n",
       "3                 41.775929                -87.666596   \n",
       "4                 41.836150                -87.648788   \n",
       "\n",
       "               Pickup Centroid Location  Dropoff Centroid Latitude  \\\n",
       "0                                   NaN                  41.975171   \n",
       "1  POINT (-87.7696154528 41.7925923603)                        NaN   \n",
       "2   POINT (-87.6333080367 41.899602111)                  41.899602   \n",
       "3  POINT (-87.6665962653 41.7759288274)                  41.775929   \n",
       "4  POINT (-87.6487879519 41.8361501547)                  41.850266   \n",
       "\n",
       "   Dropoff Centroid Longitude            Dropoff Centroid  Location  \n",
       "0                  -87.687516  POINT (-87.6875155152 41.9751709433)  \n",
       "1                         NaN                                   NaN  \n",
       "2                  -87.633308   POINT (-87.6333080367 41.899602111)  \n",
       "3                  -87.666596  POINT (-87.6665962653 41.7759288274)  \n",
       "4                  -87.667569   POINT (-87.667569312 41.8502663663)  \n",
       "\n",
       "[5 rows x 23 columns]"
      ]
     },
     "execution_count": 52,
     "metadata": {},
     "output_type": "execute_result"
    }
   ],
   "source": [
    "chunk.head()"
   ]
  },
  {
   "cell_type": "code",
   "execution_count": 53,
   "id": "688dcb25",
   "metadata": {},
   "outputs": [
    {
     "data": {
      "text/plain": [
       "(1723696, 23)"
      ]
     },
     "execution_count": 53,
     "metadata": {},
     "output_type": "execute_result"
    }
   ],
   "source": [
    "chunk.shape"
   ]
  },
  {
   "cell_type": "markdown",
   "id": "3aa0221c",
   "metadata": {},
   "source": [
    "Por temas de comodidad hemos descargado los datos particionados por años para luego unirlos en nuestro entorno de trabajo."
   ]
  },
  {
   "cell_type": "code",
   "execution_count": 56,
   "id": "cbcde132",
   "metadata": {},
   "outputs": [],
   "source": [
    "# Funcion de union de csv para unificar a un solo CSV\n",
    "def path_Append(path,chunk):\n",
    "    chunk2 = pd.read_csv(path)\n",
    "    chunk = chunk.append(chunk2, ignore_index = True)\n",
    "    print(chunk.shape)\n",
    "    del chunk2\n",
    "    return chunk"
   ]
  },
  {
   "cell_type": "code",
   "execution_count": 58,
   "id": "3eb03157",
   "metadata": {},
   "outputs": [
    {
     "name": "stdout",
     "output_type": "stream",
     "text": [
      "(9229703, 23)\n",
      "(25677152, 23)\n",
      "(46373279, 23)\n"
     ]
    }
   ],
   "source": [
    "chunk = path_Append(\"./csv/data2.csv\",chunk)\n",
    "chunk = path_Append(\"./csv/Taxi_Trips_01012019_12312019.csv\",chunk)\n",
    "chunk = path_Append(\"./csv/Taxi_Trips_01012018_12312018.csv\",chunk)\n",
    "# path_Append(\"./csv/Taxi_Trips_01012021_07312021.csv\",chunk)"
   ]
  },
  {
   "cell_type": "markdown",
   "id": "21a1f4e1",
   "metadata": {},
   "source": [
    "### Estructura del Dataset\n",
    "\n",
    "El dataset posee 23 columnas las cuales describiremos a continuacion:\n",
    "\n",
    "    \n",
    "| Columna | Descripción | Tipo de dato |\n",
    "|:--------:|:---------|---:|\n",
    "| Trip ID              | Un identificador único para el viaje. | Número|\n",
    "| Taxi ID              | Un identificador único para el taxi.  | Texto|\n",
    "| Trip Start Timestamp | Cuando comenzó el viaje, redondeado a los 15 minutos más cercanos. | Timestamp|\n",
    "| Trip End Timestamp   | Cuando terminó el viaje, redondeado a los 15 minutos más cercanos. | Timestamp|\n",
    "| Trip Seconds         | Tiempo del viaje en segundos.| Número|\n",
    "| Trip Miles           | Distancia del viaje en millas.| Número|\n",
    "| Pickup Census Tract  | La sección censal donde comenzó el viaje. Por privacidad, esta sección censal no se muestra para algunos viajes.  Esta columna a menudo estará en blanco para ubicaciones fuera de Chicago. | Número       |\n",
    "| Dropoff Census Tract | La sección censal donde terminó el viaje. Por privacidad, esta sección censal no se muestra para algunos viajes. Esta columna a menudo estará en blanco para ubicaciones fuera de Chicago.  | Número       |\n",
    "| Fare | La tarifa del viaje. | Número       |\n",
    "| Tips | La propina para el viaje. Las propinas en efectivo generalmente no se registrarán. | Número |\n",
    "| Tolls | Los peajes para el viaje. | Número |\n",
    "| Extras | Cargos adicionales por el viaje. | Número |\n",
    "| Trip Total | Cargos adicionales por el viaje. | Número |\n",
    "| Payment Type | Tipo de pago del viaje. | Texto |\n",
    "| Company | La compañía de taxis. | Texto |\n",
    "| Pickup Centroid Latitude | La latitud del centro de la sección censal de recogida o el área de la comunidad si la sección censal ha sido ocultada por privacidad.  Esta columna a menudo estará en blanco para ubicaciones fuera de Chicago. | Número |\n",
    "| Pickup Centroid Longitude  | La longitud del centro de la sección censal de recogida o del área de la comunidad si la sección censal ha sido ocultada por privacidad.  Esta columna a menudo estará en blanco para ubicaciones fuera de Chicago. | Número |\n",
    "| Pickup Centroid Location | La ubicación del centro de la sección censal de recogida o el área de la comunidad si la sección censal se ha ocultado por privacidad.  Esta columna a menudo estará en blanco para ubicaciones fuera de Chicago. | POINT |\n",
    "| Dropoff Centroid Latitude | La latitud del centro de la sección censal de abandono o el área de la comunidad si la sección censal ha sido ocultada por privacidad.  Esta columna a menudo estará en blanco para ubicaciones fuera de Chicago. | Número |\n",
    "| Dropoff Centroid Longitude | La longitud del centro de la sección censal de abandono o del área de la comunidad si la sección censal ha sido ocultada por privacidad.  Esta columna a menudo estará en blanco para ubicaciones fuera de Chicago. | Número |\n",
    "| Dropoff Centroid  Location | La ubicación del centro de la sección censal de entrega o el área de la comunidad si la sección censal ha sido ocultada por privacidad.  Esta columna a menudo estará en blanco para ubicaciones fuera de Chicago. | POINT |\n",
    "\n",
    "#### Notas del dataset\n",
    "- En el Área comunitaria (_Área comunitaria_) se encuentra las zonas de los puntos de recojo y destino. Estas zonas estan identificadas en _Chicago Data Portal_ como [__Boundaries Community Areas__](#Boundaries---Community-Areas-(current)--[5])  \n",
    "- La estructura Point es una estructura del GeoJSON, que identifica la Latitud y Longitud en la Tierra. [[4]](#)"
   ]
  },
  {
   "cell_type": "code",
   "execution_count": 59,
   "id": "52e62f7a",
   "metadata": {
    "scrolled": false
   },
   "outputs": [
    {
     "name": "stdout",
     "output_type": "stream",
     "text": [
      "<class 'pandas.core.frame.DataFrame'>\n",
      "RangeIndex: 46373279 entries, 0 to 46373278\n",
      "Data columns (total 23 columns):\n",
      " #   Column                      Dtype  \n",
      "---  ------                      -----  \n",
      " 0   Trip ID                     object \n",
      " 1   Taxi ID                     object \n",
      " 2   Trip Start Timestamp        object \n",
      " 3   Trip End Timestamp          object \n",
      " 4   Trip Seconds                float64\n",
      " 5   Trip Miles                  float64\n",
      " 6   Pickup Census Tract         float64\n",
      " 7   Dropoff Census Tract        float64\n",
      " 8   Pickup Community Area       float64\n",
      " 9   Dropoff Community Area      float64\n",
      " 10  Fare                        float64\n",
      " 11  Tips                        float64\n",
      " 12  Tolls                       float64\n",
      " 13  Extras                      float64\n",
      " 14  Trip Total                  float64\n",
      " 15  Payment Type                object \n",
      " 16  Company                     object \n",
      " 17  Pickup Centroid Latitude    float64\n",
      " 18  Pickup Centroid Longitude   float64\n",
      " 19  Pickup Centroid Location    object \n",
      " 20  Dropoff Centroid Latitude   float64\n",
      " 21  Dropoff Centroid Longitude  float64\n",
      " 22  Dropoff Centroid  Location  object \n",
      "dtypes: float64(15), object(8)\n",
      "memory usage: 7.9+ GB\n"
     ]
    }
   ],
   "source": [
    "chunk.info()"
   ]
  },
  {
   "cell_type": "code",
   "execution_count": 73,
   "id": "0fe60340",
   "metadata": {},
   "outputs": [
    {
     "data": {
      "text/plain": [
       "(38867272, 23)"
      ]
     },
     "execution_count": 73,
     "metadata": {},
     "output_type": "execute_result"
    }
   ],
   "source": [
    "chunk.shape"
   ]
  },
  {
   "cell_type": "code",
   "execution_count": 61,
   "id": "4d35b9cf",
   "metadata": {},
   "outputs": [],
   "source": [
    "chunk = chunk.drop_duplicates(keep='last')"
   ]
  },
  {
   "cell_type": "code",
   "execution_count": 64,
   "id": "05f173ce",
   "metadata": {},
   "outputs": [
    {
     "name": "stdout",
     "output_type": "stream",
     "text": [
      "Se hizo la recoleccion de 38867272 viajes no repetidos\n"
     ]
    }
   ],
   "source": [
    "print(f'Se hizo la recoleccion de {chunk.shape[0]} viajes no repetidos')"
   ]
  },
  {
   "cell_type": "code",
   "execution_count": 65,
   "id": "9068b5a9",
   "metadata": {},
   "outputs": [
    {
     "data": {
      "text/plain": [
       "{'Dropoff Census Tract': 13534348,\n",
       " 'Pickup Census Tract': 13341054,\n",
       " 'Tolls': 4458567,\n",
       " 'Dropoff Community Area': 3754212,\n",
       " 'Dropoff Centroid  Location': 3619857,\n",
       " 'Dropoff Centroid Longitude': 3619857,\n",
       " 'Dropoff Centroid Latitude': 3619857,\n",
       " 'Pickup Community Area': 2796419,\n",
       " 'Pickup Centroid Location': 2788783,\n",
       " 'Pickup Centroid Longitude': 2788783,\n",
       " 'Pickup Centroid Latitude': 2788783,\n",
       " 'Trip Seconds': 5879,\n",
       " 'Trip Total': 3010,\n",
       " 'Tips': 3010,\n",
       " 'Extras': 3010,\n",
       " 'Fare': 3010,\n",
       " 'Taxi ID': 2067,\n",
       " 'Trip Miles': 1368,\n",
       " 'Trip End Timestamp': 1188,\n",
       " 'Payment Type': 0,\n",
       " 'Company': 0,\n",
       " 'Trip Start Timestamp': 0,\n",
       " 'Trip ID': 0}"
      ]
     },
     "execution_count": 65,
     "metadata": {},
     "output_type": "execute_result"
    }
   ],
   "source": [
    "chunk.isnull().sum().sort_values(ascending = False).to_dict()"
   ]
  },
  {
   "cell_type": "code",
   "execution_count": 10,
   "id": "6b74ad4d",
   "metadata": {},
   "outputs": [],
   "source": [
    "chunk = chunk.drop(columns=['Pickup Census Tract','Dropoff Census Tract'])"
   ]
  },
  {
   "cell_type": "code",
   "execution_count": 20,
   "id": "66d47ecd",
   "metadata": {
    "pycharm": {
     "name": "#%%\n"
    }
   },
   "outputs": [
    {
     "data": {
      "text/plain": [
       "['Trip ID',\n",
       " 'Taxi ID',\n",
       " 'Trip Start Timestamp',\n",
       " 'Trip End Timestamp',\n",
       " 'Trip Seconds',\n",
       " 'Trip Miles',\n",
       " 'Pickup Community Area',\n",
       " 'Dropoff Community Area',\n",
       " 'Fare',\n",
       " 'Tips',\n",
       " 'Tolls',\n",
       " 'Extras',\n",
       " 'Trip Total',\n",
       " 'Payment Type',\n",
       " 'Company',\n",
       " 'Pickup Centroid Latitude',\n",
       " 'Pickup Centroid Longitude',\n",
       " 'Pickup Centroid Location',\n",
       " 'Dropoff Centroid Latitude',\n",
       " 'Dropoff Centroid Longitude',\n",
       " 'Dropoff Centroid  Location']"
      ]
     },
     "execution_count": 20,
     "metadata": {},
     "output_type": "execute_result"
    }
   ],
   "source": [
    "chunk.columns.tolist()"
   ]
  },
  {
   "cell_type": "code",
   "execution_count": 24,
   "id": "c75bca01",
   "metadata": {
    "pycharm": {
     "name": "#%%\n"
    }
   },
   "outputs": [
    {
     "data": {
      "text/plain": [
       "0                 Cash\n",
       "1                 Cash\n",
       "2                 Cash\n",
       "3                 Cash\n",
       "4                 Cash\n",
       "              ...     \n",
       "2623033    Credit Card\n",
       "2623034    Credit Card\n",
       "2623035         Mobile\n",
       "2623036           Cash\n",
       "2623037    Credit Card\n",
       "Name: Payment Type, Length: 2623038, dtype: object"
      ]
     },
     "execution_count": 24,
     "metadata": {},
     "output_type": "execute_result"
    }
   ],
   "source": [
    "chunk['Payment Type']"
   ]
  },
  {
   "cell_type": "code",
   "execution_count": null,
   "id": "f0a0f585",
   "metadata": {
    "pycharm": {
     "name": "#%%\n"
    }
   },
   "outputs": [],
   "source": [
    "def dropField(col):"
   ]
  },
  {
   "cell_type": "code",
   "execution_count": 11,
   "id": "9a9296b7",
   "metadata": {
    "pycharm": {
     "name": "#%%\n"
    }
   },
   "outputs": [
    {
     "name": "stdout",
     "output_type": "stream",
     "text": [
      "<class 'pandas.core.frame.DataFrame'>\n",
      "RangeIndex: 2623038 entries, 0 to 2623037\n",
      "Data columns (total 21 columns):\n",
      " #   Column                      Dtype  \n",
      "---  ------                      -----  \n",
      " 0   Trip ID                     object \n",
      " 1   Taxi ID                     object \n",
      " 2   Trip Start Timestamp        object \n",
      " 3   Trip End Timestamp          object \n",
      " 4   Trip Seconds                float64\n",
      " 5   Trip Miles                  float64\n",
      " 6   Pickup Community Area       float64\n",
      " 7   Dropoff Community Area      float64\n",
      " 8   Fare                        float64\n",
      " 9   Tips                        float64\n",
      " 10  Tolls                       float64\n",
      " 11  Extras                      float64\n",
      " 12  Trip Total                  float64\n",
      " 13  Payment Type                object \n",
      " 14  Company                     object \n",
      " 15  Pickup Centroid Latitude    float64\n",
      " 16  Pickup Centroid Longitude   float64\n",
      " 17  Pickup Centroid Location    object \n",
      " 18  Dropoff Centroid Latitude   float64\n",
      " 19  Dropoff Centroid Longitude  float64\n",
      " 20  Dropoff Centroid  Location  object \n",
      "dtypes: float64(13), object(8)\n",
      "memory usage: 420.3+ MB\n"
     ]
    }
   ],
   "source": [
    "chunk.info()"
   ]
  },
  {
   "cell_type": "code",
   "execution_count": 8,
   "id": "bf8ef33c",
   "metadata": {},
   "outputs": [],
   "source": [
    "dtype={'Company': 'object',\n",
    "       'Dropoff Census Tract': 'float64',\n",
    "       'Dropoff Community Area': 'float64',\n",
    "       'Pickup Census Tract': 'float64',\n",
    "       'Pickup Community Area': 'float64',\n",
    "       'Trip Seconds': 'float64'}"
   ]
  },
  {
   "cell_type": "code",
   "execution_count": 9,
   "id": "55618b65",
   "metadata": {},
   "outputs": [
    {
     "name": "stdout",
     "output_type": "stream",
     "text": [
      "Read csv with dask:  0.03322863578796387 sec\n"
     ]
    }
   ],
   "source": [
    "start = time.time()\n",
    "dask_df = dd.read_csv('Taxi_Trips_01012018_12312018.csv',blocksize=24e6,dtype=dtype)\n",
    "end = time.time()\n",
    "print(\"Read csv with dask: \",(end-start),\"sec\")"
   ]
  },
  {
   "cell_type": "code",
   "execution_count": 10,
   "id": "3b3a98f9",
   "metadata": {},
   "outputs": [],
   "source": [
    "df = dask_df.compute(scheduler='processes')"
   ]
  },
  {
   "cell_type": "markdown",
   "id": "528146c8",
   "metadata": {},
   "source": [
    "## Boundaries - Community Areas (current)  [[5]](#5)\n",
    "\n",
    "### Resumen\n",
    "El dataset de estudio es una lista los limites actuales del área comunitaria de Chicago. Estos limites estan representados por varias sub áreas, las cuales representan un sector del mapa de Chicago, el cual no ha cambiado en los ultimos 4 años.\n",
    "### Justificacion\n",
    "Se plantea el uso de este dataset para reconocer en que area se encuentran los pedidos, haciendo mas facil el uso de los datos."
   ]
  },
  {
   "cell_type": "code",
   "execution_count": 67,
   "id": "49b52869",
   "metadata": {},
   "outputs": [],
   "source": [
    "comm_area = pd.read_csv(\"./csv/CommAreas.csv\")"
   ]
  },
  {
   "cell_type": "code",
   "execution_count": 68,
   "id": "d8ad87a7",
   "metadata": {},
   "outputs": [
    {
     "name": "stdout",
     "output_type": "stream",
     "text": [
      "<class 'pandas.core.frame.DataFrame'>\n",
      "RangeIndex: 77 entries, 0 to 76\n",
      "Data columns (total 10 columns):\n",
      " #   Column      Non-Null Count  Dtype  \n",
      "---  ------      --------------  -----  \n",
      " 0   the_geom    77 non-null     object \n",
      " 1   PERIMETER   77 non-null     int64  \n",
      " 2   AREA        77 non-null     int64  \n",
      " 3   COMAREA_    77 non-null     int64  \n",
      " 4   COMAREA_ID  77 non-null     int64  \n",
      " 5   AREA_NUMBE  77 non-null     int64  \n",
      " 6   COMMUNITY   77 non-null     object \n",
      " 7   AREA_NUM_1  77 non-null     int64  \n",
      " 8   SHAPE_AREA  77 non-null     float64\n",
      " 9   SHAPE_LEN   77 non-null     float64\n",
      "dtypes: float64(2), int64(6), object(2)\n",
      "memory usage: 6.1+ KB\n"
     ]
    }
   ],
   "source": [
    "comm_area.info()"
   ]
  },
  {
   "cell_type": "markdown",
   "id": "3966d4e9",
   "metadata": {},
   "source": [
    "### Estructura del Dataset\n",
    "\n",
    "El dataset posee 23 columnas las cuales describiremos a continuacion:\n",
    "\n",
    "    \n",
    "| Columna | Descripción | Tipo de dato |\n",
    "|:--------:|:---------|---:|\n",
    "| the_geom   | Recuadro del área de la comunidad. | MULTIPOLYGON|\n",
    "| PERIMETER  | Perimetro del área de la comunidad.  | Número|\n",
    "| AREA       | Area del área de la comunidad. | Número |\n",
    "| COMAREA_   | Sin Descripcion. | Número |\n",
    "| COMAREA_ID | Sin Descripcion.| Número |\n",
    "| AREA_NUMBE | Numero asignado a cada área de comunidad.| Número |\n",
    "| COMMUNITY  | Nombre de cada área de comunidad. | Texto |\n",
    "|AREA_NUM_1  | Sin Descripcion.  | Número |\n",
    "| SHAPE_AREA | Area perimetral del recuadro. | Número |\n",
    "| SHAPE_LEN  | Distancia perimetral del recuadro. | Número |\n",
    "\n",
    "#### Notas del dataset\n",
    "- La estructura __MULTIPOLYGON__ son multiples poligonos en forma de lineas que de conectan para formar un recuadro de varios poligonos, el cual es cerrado. [[3]](#3)"
   ]
  },
  {
   "cell_type": "code",
   "execution_count": 70,
   "id": "8aedfbaf",
   "metadata": {},
   "outputs": [
    {
     "data": {
      "text/html": [
       "<div>\n",
       "<style scoped>\n",
       "    .dataframe tbody tr th:only-of-type {\n",
       "        vertical-align: middle;\n",
       "    }\n",
       "\n",
       "    .dataframe tbody tr th {\n",
       "        vertical-align: top;\n",
       "    }\n",
       "\n",
       "    .dataframe thead th {\n",
       "        text-align: right;\n",
       "    }\n",
       "</style>\n",
       "<table border=\"1\" class=\"dataframe\">\n",
       "  <thead>\n",
       "    <tr style=\"text-align: right;\">\n",
       "      <th></th>\n",
       "      <th>the_geom</th>\n",
       "      <th>PERIMETER</th>\n",
       "      <th>AREA</th>\n",
       "      <th>COMAREA_</th>\n",
       "      <th>COMAREA_ID</th>\n",
       "      <th>AREA_NUMBE</th>\n",
       "      <th>COMMUNITY</th>\n",
       "      <th>AREA_NUM_1</th>\n",
       "      <th>SHAPE_AREA</th>\n",
       "      <th>SHAPE_LEN</th>\n",
       "    </tr>\n",
       "  </thead>\n",
       "  <tbody>\n",
       "    <tr>\n",
       "      <th>0</th>\n",
       "      <td>MULTIPOLYGON (((-87.60914087617894 41.84469250...</td>\n",
       "      <td>0</td>\n",
       "      <td>0</td>\n",
       "      <td>0</td>\n",
       "      <td>0</td>\n",
       "      <td>35</td>\n",
       "      <td>DOUGLAS</td>\n",
       "      <td>35</td>\n",
       "      <td>4.600462e+07</td>\n",
       "      <td>31027.054510</td>\n",
       "    </tr>\n",
       "    <tr>\n",
       "      <th>1</th>\n",
       "      <td>MULTIPOLYGON (((-87.59215283879394 41.81692934...</td>\n",
       "      <td>0</td>\n",
       "      <td>0</td>\n",
       "      <td>0</td>\n",
       "      <td>0</td>\n",
       "      <td>36</td>\n",
       "      <td>OAKLAND</td>\n",
       "      <td>36</td>\n",
       "      <td>1.691396e+07</td>\n",
       "      <td>19565.506153</td>\n",
       "    </tr>\n",
       "    <tr>\n",
       "      <th>2</th>\n",
       "      <td>MULTIPOLYGON (((-87.62879823733725 41.80189303...</td>\n",
       "      <td>0</td>\n",
       "      <td>0</td>\n",
       "      <td>0</td>\n",
       "      <td>0</td>\n",
       "      <td>37</td>\n",
       "      <td>FULLER PARK</td>\n",
       "      <td>37</td>\n",
       "      <td>1.991670e+07</td>\n",
       "      <td>25339.089750</td>\n",
       "    </tr>\n",
       "    <tr>\n",
       "      <th>3</th>\n",
       "      <td>MULTIPOLYGON (((-87.6067081256125 41.816813770...</td>\n",
       "      <td>0</td>\n",
       "      <td>0</td>\n",
       "      <td>0</td>\n",
       "      <td>0</td>\n",
       "      <td>38</td>\n",
       "      <td>GRAND BOULEVARD</td>\n",
       "      <td>38</td>\n",
       "      <td>4.849250e+07</td>\n",
       "      <td>28196.837157</td>\n",
       "    </tr>\n",
       "    <tr>\n",
       "      <th>4</th>\n",
       "      <td>MULTIPOLYGON (((-87.59215283879394 41.81692934...</td>\n",
       "      <td>0</td>\n",
       "      <td>0</td>\n",
       "      <td>0</td>\n",
       "      <td>0</td>\n",
       "      <td>39</td>\n",
       "      <td>KENWOOD</td>\n",
       "      <td>39</td>\n",
       "      <td>2.907174e+07</td>\n",
       "      <td>23325.167906</td>\n",
       "    </tr>\n",
       "  </tbody>\n",
       "</table>\n",
       "</div>"
      ],
      "text/plain": [
       "                                            the_geom  PERIMETER  AREA  \\\n",
       "0  MULTIPOLYGON (((-87.60914087617894 41.84469250...          0     0   \n",
       "1  MULTIPOLYGON (((-87.59215283879394 41.81692934...          0     0   \n",
       "2  MULTIPOLYGON (((-87.62879823733725 41.80189303...          0     0   \n",
       "3  MULTIPOLYGON (((-87.6067081256125 41.816813770...          0     0   \n",
       "4  MULTIPOLYGON (((-87.59215283879394 41.81692934...          0     0   \n",
       "\n",
       "   COMAREA_  COMAREA_ID  AREA_NUMBE        COMMUNITY  AREA_NUM_1  \\\n",
       "0         0           0          35          DOUGLAS          35   \n",
       "1         0           0          36          OAKLAND          36   \n",
       "2         0           0          37      FULLER PARK          37   \n",
       "3         0           0          38  GRAND BOULEVARD          38   \n",
       "4         0           0          39          KENWOOD          39   \n",
       "\n",
       "     SHAPE_AREA     SHAPE_LEN  \n",
       "0  4.600462e+07  31027.054510  \n",
       "1  1.691396e+07  19565.506153  \n",
       "2  1.991670e+07  25339.089750  \n",
       "3  4.849250e+07  28196.837157  \n",
       "4  2.907174e+07  23325.167906  "
      ]
     },
     "execution_count": 70,
     "metadata": {},
     "output_type": "execute_result"
    }
   ],
   "source": [
    "comm_area.head()"
   ]
  },
  {
   "cell_type": "code",
   "execution_count": 69,
   "id": "b7779649",
   "metadata": {},
   "outputs": [
    {
     "data": {
      "text/plain": [
       "['the_geom',\n",
       " 'PERIMETER',\n",
       " 'AREA',\n",
       " 'COMAREA_',\n",
       " 'COMAREA_ID',\n",
       " 'AREA_NUMBE',\n",
       " 'COMMUNITY',\n",
       " 'AREA_NUM_1',\n",
       " 'SHAPE_AREA',\n",
       " 'SHAPE_LEN']"
      ]
     },
     "execution_count": 69,
     "metadata": {},
     "output_type": "execute_result"
    }
   ],
   "source": [
    "## Eliminaremos algunas columnas que no se utilizaran\n",
    "comm_area.columns.tolist()"
   ]
  },
  {
   "cell_type": "code",
   "execution_count": 71,
   "id": "101f457f",
   "metadata": {},
   "outputs": [],
   "source": [
    "comm_area.drop(['PERIMETER','AREA','COMAREA_','COMAREA_ID','AREA_NUM_1'], axis=1, inplace=True)"
   ]
  },
  {
   "cell_type": "code",
   "execution_count": 72,
   "id": "cb1b3061",
   "metadata": {},
   "outputs": [
    {
     "data": {
      "text/html": [
       "<div>\n",
       "<style scoped>\n",
       "    .dataframe tbody tr th:only-of-type {\n",
       "        vertical-align: middle;\n",
       "    }\n",
       "\n",
       "    .dataframe tbody tr th {\n",
       "        vertical-align: top;\n",
       "    }\n",
       "\n",
       "    .dataframe thead th {\n",
       "        text-align: right;\n",
       "    }\n",
       "</style>\n",
       "<table border=\"1\" class=\"dataframe\">\n",
       "  <thead>\n",
       "    <tr style=\"text-align: right;\">\n",
       "      <th></th>\n",
       "      <th>the_geom</th>\n",
       "      <th>AREA_NUMBE</th>\n",
       "      <th>COMMUNITY</th>\n",
       "      <th>SHAPE_AREA</th>\n",
       "      <th>SHAPE_LEN</th>\n",
       "    </tr>\n",
       "  </thead>\n",
       "  <tbody>\n",
       "    <tr>\n",
       "      <th>0</th>\n",
       "      <td>MULTIPOLYGON (((-87.60914087617894 41.84469250...</td>\n",
       "      <td>35</td>\n",
       "      <td>DOUGLAS</td>\n",
       "      <td>4.600462e+07</td>\n",
       "      <td>31027.054510</td>\n",
       "    </tr>\n",
       "    <tr>\n",
       "      <th>1</th>\n",
       "      <td>MULTIPOLYGON (((-87.59215283879394 41.81692934...</td>\n",
       "      <td>36</td>\n",
       "      <td>OAKLAND</td>\n",
       "      <td>1.691396e+07</td>\n",
       "      <td>19565.506153</td>\n",
       "    </tr>\n",
       "    <tr>\n",
       "      <th>2</th>\n",
       "      <td>MULTIPOLYGON (((-87.62879823733725 41.80189303...</td>\n",
       "      <td>37</td>\n",
       "      <td>FULLER PARK</td>\n",
       "      <td>1.991670e+07</td>\n",
       "      <td>25339.089750</td>\n",
       "    </tr>\n",
       "    <tr>\n",
       "      <th>3</th>\n",
       "      <td>MULTIPOLYGON (((-87.6067081256125 41.816813770...</td>\n",
       "      <td>38</td>\n",
       "      <td>GRAND BOULEVARD</td>\n",
       "      <td>4.849250e+07</td>\n",
       "      <td>28196.837157</td>\n",
       "    </tr>\n",
       "    <tr>\n",
       "      <th>4</th>\n",
       "      <td>MULTIPOLYGON (((-87.59215283879394 41.81692934...</td>\n",
       "      <td>39</td>\n",
       "      <td>KENWOOD</td>\n",
       "      <td>2.907174e+07</td>\n",
       "      <td>23325.167906</td>\n",
       "    </tr>\n",
       "    <tr>\n",
       "      <th>...</th>\n",
       "      <td>...</td>\n",
       "      <td>...</td>\n",
       "      <td>...</td>\n",
       "      <td>...</td>\n",
       "      <td>...</td>\n",
       "    </tr>\n",
       "    <tr>\n",
       "      <th>72</th>\n",
       "      <td>MULTIPOLYGON (((-87.69645961375822 41.70714491...</td>\n",
       "      <td>74</td>\n",
       "      <td>MOUNT GREENWOOD</td>\n",
       "      <td>7.558429e+07</td>\n",
       "      <td>48665.130539</td>\n",
       "    </tr>\n",
       "    <tr>\n",
       "      <th>73</th>\n",
       "      <td>MULTIPOLYGON (((-87.64215204651398 41.68508211...</td>\n",
       "      <td>75</td>\n",
       "      <td>MORGAN PARK</td>\n",
       "      <td>9.187734e+07</td>\n",
       "      <td>46396.419362</td>\n",
       "    </tr>\n",
       "    <tr>\n",
       "      <th>74</th>\n",
       "      <td>MULTIPOLYGON (((-87.83658087874365 41.98639611...</td>\n",
       "      <td>76</td>\n",
       "      <td>OHARE</td>\n",
       "      <td>3.718356e+08</td>\n",
       "      <td>173625.984660</td>\n",
       "    </tr>\n",
       "    <tr>\n",
       "      <th>75</th>\n",
       "      <td>MULTIPOLYGON (((-87.65455590025104 41.99816614...</td>\n",
       "      <td>77</td>\n",
       "      <td>EDGEWATER</td>\n",
       "      <td>4.844999e+07</td>\n",
       "      <td>31004.830946</td>\n",
       "    </tr>\n",
       "    <tr>\n",
       "      <th>76</th>\n",
       "      <td>MULTIPOLYGON (((-87.80675853375328 42.00083736...</td>\n",
       "      <td>9</td>\n",
       "      <td>EDISON PARK</td>\n",
       "      <td>3.163631e+07</td>\n",
       "      <td>25937.226841</td>\n",
       "    </tr>\n",
       "  </tbody>\n",
       "</table>\n",
       "<p>77 rows × 5 columns</p>\n",
       "</div>"
      ],
      "text/plain": [
       "                                             the_geom  AREA_NUMBE  \\\n",
       "0   MULTIPOLYGON (((-87.60914087617894 41.84469250...          35   \n",
       "1   MULTIPOLYGON (((-87.59215283879394 41.81692934...          36   \n",
       "2   MULTIPOLYGON (((-87.62879823733725 41.80189303...          37   \n",
       "3   MULTIPOLYGON (((-87.6067081256125 41.816813770...          38   \n",
       "4   MULTIPOLYGON (((-87.59215283879394 41.81692934...          39   \n",
       "..                                                ...         ...   \n",
       "72  MULTIPOLYGON (((-87.69645961375822 41.70714491...          74   \n",
       "73  MULTIPOLYGON (((-87.64215204651398 41.68508211...          75   \n",
       "74  MULTIPOLYGON (((-87.83658087874365 41.98639611...          76   \n",
       "75  MULTIPOLYGON (((-87.65455590025104 41.99816614...          77   \n",
       "76  MULTIPOLYGON (((-87.80675853375328 42.00083736...           9   \n",
       "\n",
       "          COMMUNITY    SHAPE_AREA      SHAPE_LEN  \n",
       "0           DOUGLAS  4.600462e+07   31027.054510  \n",
       "1           OAKLAND  1.691396e+07   19565.506153  \n",
       "2       FULLER PARK  1.991670e+07   25339.089750  \n",
       "3   GRAND BOULEVARD  4.849250e+07   28196.837157  \n",
       "4           KENWOOD  2.907174e+07   23325.167906  \n",
       "..              ...           ...            ...  \n",
       "72  MOUNT GREENWOOD  7.558429e+07   48665.130539  \n",
       "73      MORGAN PARK  9.187734e+07   46396.419362  \n",
       "74            OHARE  3.718356e+08  173625.984660  \n",
       "75        EDGEWATER  4.844999e+07   31004.830946  \n",
       "76      EDISON PARK  3.163631e+07   25937.226841  \n",
       "\n",
       "[77 rows x 5 columns]"
      ]
     },
     "execution_count": 72,
     "metadata": {},
     "output_type": "execute_result"
    }
   ],
   "source": [
    "comm_area"
   ]
  },
  {
   "cell_type": "markdown",
   "id": "1c456f38",
   "metadata": {},
   "source": [
    "## Bibliography\n",
    "<a id='1'></a>\n",
    "[1] _Taxi Trips_, Transportation , Chicago Data Portal, 2021. __URL__:https://data.cityofchicago.org/Transportation/Taxi-Trips/wrvz-psew (visited: 05.12.21)\n",
    "<br>\n",
    "<a id='2'></a>\n",
    "[2] _Update of Chicago Taxi Trips DataSet_, Chicago Data Portal, Developers City of Chicago, 2019. __URL__:http://dev.cityofchicago.org/open%20data/data%20portal/2019/07/01/taxi-dataset-relaunch.html (visited: 05.12.21)\n",
    "<br>\n",
    "<a id='3'></a>\n",
    "[3] _Spatial Data (SQL Server)_, SQL Docs, Microsoft, 2020. __URL__:https://docs.microsoft.com/en-us/sql/relational-databases/spatial/spatial-data-sql-server?view=sql-server-ver15 (visited: 05.12.21)\n",
    "<br>\n",
    "<a id='4'></a>\n",
    "[4] _DataTypes_, API Docs, SODA,2015. __URL__:https://dev.socrata.com/docs/datatypes/ (visited: 05.12.21)\n",
    "<br>\n",
    "<a id='5'></a>\n",
    "[5] _Boundaries - Community Areas (current)_, Chicago Data Portal ,2013. __URL__:https://data.cityofchicago.org/Facilities-Geographic-Boundaries/Boundaries-Community-Areas-current-/cauq-8yn6/data (visited: 05.12.21)"
   ]
  },
  {
   "cell_type": "code",
   "execution_count": null,
   "id": "c47a86f2",
   "metadata": {},
   "outputs": [],
   "source": []
  }
 ],
 "metadata": {
  "kernelspec": {
   "display_name": "Python 3 (ipykernel)",
   "language": "python",
   "name": "python3"
  },
  "language_info": {
   "codemirror_mode": {
    "name": "ipython",
    "version": 3
   },
   "file_extension": ".py",
   "mimetype": "text/x-python",
   "name": "python",
   "nbconvert_exporter": "python",
   "pygments_lexer": "ipython3",
   "version": "3.9.7"
  }
 },
 "nbformat": 4,
 "nbformat_minor": 5
}
